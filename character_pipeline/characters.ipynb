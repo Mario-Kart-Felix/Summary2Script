{
 "cells": [
  {
   "cell_type": "code",
   "execution_count": 1,
   "metadata": {},
   "outputs": [],
   "source": [
    "import numpy as np\n",
    "import pandas as pd\n",
    "import spacy\n",
    "\n",
    "from collections import Counter\n",
    "import nltk\n",
    "from nltk.corpus import wordnet\n",
    "from nltk.corpus import stopwords"
   ]
  },
  {
   "cell_type": "code",
   "execution_count": 2,
   "metadata": {},
   "outputs": [],
   "source": [
    "nlp = spacy.load(\"en_core_web_md\")\n",
    "stop = stopwords.words('english')"
   ]
  },
  {
   "cell_type": "code",
   "execution_count": 3,
   "metadata": {},
   "outputs": [
    {
     "data": {
      "text/plain": [
       "(77, 2)"
      ]
     },
     "execution_count": 3,
     "metadata": {},
     "output_type": "execute_result"
    }
   ],
   "source": [
    "a = np.load('./outfile.npy')\n",
    "a.shape"
   ]
  },
  {
   "cell_type": "code",
   "execution_count": 4,
   "metadata": {},
   "outputs": [
    {
     "data": {
      "text/plain": [
       "((77, 2),\n",
       "              movie                                            summary\n",
       " 0             1917  1917\\nScene by Scene Breakdown\\nBy Alexis Howe...\n",
       " 1  A Monster Calls  A Monster Calls\\nScene by Scene Breakdown\\nby ...\n",
       " 2    A Quiet Place  A Quiet Place\\nScene by Scene Breakdown\\nBy Ma...\n",
       " 3      All is Lost  All Is Lost\\nScene-by-Scene Breakdown\\nWritten...\n",
       " 4  American Hustle  American Hustle\\nScene By Scene Breakdown\\nBy ...)"
      ]
     },
     "execution_count": 4,
     "metadata": {},
     "output_type": "execute_result"
    }
   ],
   "source": [
    "df = pd.DataFrame(a)\n",
    "df.columns = ['movie','summary']\n",
    "df.shape,df.head()"
   ]
  },
  {
   "cell_type": "code",
   "execution_count": 5,
   "metadata": {},
   "outputs": [],
   "source": [
    "def prep(x):\n",
    "    def rem_up(i):\n",
    "        if i.isupper():\n",
    "            return i.title()\n",
    "        else:\n",
    "            return i\n",
    "    x = x.replace('\\n',' ')\n",
    "    x = list(map(rem_up,x.split(' ')))\n",
    "    x = ' '.join(x)\n",
    "    return x\n",
    "\n",
    "df['summary_preprocess'] = df['summary'].apply(lambda x: prep(x))"
   ]
  },
  {
   "cell_type": "code",
   "execution_count": 6,
   "metadata": {},
   "outputs": [],
   "source": [
    "df['summary_doc'] = list(nlp.pipe(df['summary_preprocess'],n_process=20,batch_size=64))"
   ]
  },
  {
   "cell_type": "code",
   "execution_count": 7,
   "metadata": {},
   "outputs": [
    {
     "data": {
      "text/html": [
       "<div>\n",
       "<style scoped>\n",
       "    .dataframe tbody tr th:only-of-type {\n",
       "        vertical-align: middle;\n",
       "    }\n",
       "\n",
       "    .dataframe tbody tr th {\n",
       "        vertical-align: top;\n",
       "    }\n",
       "\n",
       "    .dataframe thead th {\n",
       "        text-align: right;\n",
       "    }\n",
       "</style>\n",
       "<table border=\"1\" class=\"dataframe\">\n",
       "  <thead>\n",
       "    <tr style=\"text-align: right;\">\n",
       "      <th></th>\n",
       "      <th>movie</th>\n",
       "      <th>summary</th>\n",
       "      <th>summary_preprocess</th>\n",
       "      <th>summary_doc</th>\n",
       "    </tr>\n",
       "  </thead>\n",
       "  <tbody>\n",
       "    <tr>\n",
       "      <th>0</th>\n",
       "      <td>1917</td>\n",
       "      <td>1917\\nScene by Scene Breakdown\\nBy Alexis Howe...</td>\n",
       "      <td>1917 Scene by Scene Breakdown By Alexis Howell...</td>\n",
       "      <td>(1917, Scene, by, Scene, Breakdown, By, Alexis...</td>\n",
       "    </tr>\n",
       "    <tr>\n",
       "      <th>1</th>\n",
       "      <td>A Monster Calls</td>\n",
       "      <td>A Monster Calls\\nScene by Scene Breakdown\\nby ...</td>\n",
       "      <td>A Monster Calls Scene by Scene Breakdown by An...</td>\n",
       "      <td>(A, Monster, Calls, Scene, by, Scene, Breakdow...</td>\n",
       "    </tr>\n",
       "    <tr>\n",
       "      <th>2</th>\n",
       "      <td>A Quiet Place</td>\n",
       "      <td>A Quiet Place\\nScene by Scene Breakdown\\nBy Ma...</td>\n",
       "      <td>A Quiet Place Scene by Scene Breakdown By Mark...</td>\n",
       "      <td>(A, Quiet, Place, Scene, by, Scene, Breakdown,...</td>\n",
       "    </tr>\n",
       "    <tr>\n",
       "      <th>3</th>\n",
       "      <td>All is Lost</td>\n",
       "      <td>All Is Lost\\nScene-by-Scene Breakdown\\nWritten...</td>\n",
       "      <td>All Is Lost Scene-by-Scene Breakdown Written b...</td>\n",
       "      <td>(All, Is, Lost, Scene, -, by, -, Scene, Breakd...</td>\n",
       "    </tr>\n",
       "    <tr>\n",
       "      <th>4</th>\n",
       "      <td>American Hustle</td>\n",
       "      <td>American Hustle\\nScene By Scene Breakdown\\nBy ...</td>\n",
       "      <td>American Hustle Scene By Scene Breakdown By Jo...</td>\n",
       "      <td>(American, Hustle, Scene, By, Scene, Breakdown...</td>\n",
       "    </tr>\n",
       "  </tbody>\n",
       "</table>\n",
       "</div>"
      ],
      "text/plain": [
       "             movie                                            summary  \\\n",
       "0             1917  1917\\nScene by Scene Breakdown\\nBy Alexis Howe...   \n",
       "1  A Monster Calls  A Monster Calls\\nScene by Scene Breakdown\\nby ...   \n",
       "2    A Quiet Place  A Quiet Place\\nScene by Scene Breakdown\\nBy Ma...   \n",
       "3      All is Lost  All Is Lost\\nScene-by-Scene Breakdown\\nWritten...   \n",
       "4  American Hustle  American Hustle\\nScene By Scene Breakdown\\nBy ...   \n",
       "\n",
       "                                  summary_preprocess  \\\n",
       "0  1917 Scene by Scene Breakdown By Alexis Howell...   \n",
       "1  A Monster Calls Scene by Scene Breakdown by An...   \n",
       "2  A Quiet Place Scene by Scene Breakdown By Mark...   \n",
       "3  All Is Lost Scene-by-Scene Breakdown Written b...   \n",
       "4  American Hustle Scene By Scene Breakdown By Jo...   \n",
       "\n",
       "                                         summary_doc  \n",
       "0  (1917, Scene, by, Scene, Breakdown, By, Alexis...  \n",
       "1  (A, Monster, Calls, Scene, by, Scene, Breakdow...  \n",
       "2  (A, Quiet, Place, Scene, by, Scene, Breakdown,...  \n",
       "3  (All, Is, Lost, Scene, -, by, -, Scene, Breakd...  \n",
       "4  (American, Hustle, Scene, By, Scene, Breakdown...  "
      ]
     },
     "execution_count": 7,
     "metadata": {},
     "output_type": "execute_result"
    }
   ],
   "source": [
    "df.head()"
   ]
  },
  {
   "cell_type": "code",
   "execution_count": 8,
   "metadata": {},
   "outputs": [
    {
     "data": {
      "text/plain": [
       "['tagger', 'parser', 'ner']"
      ]
     },
     "execution_count": 8,
     "metadata": {},
     "output_type": "execute_result"
    }
   ],
   "source": [
    "nlp.pipe_names"
   ]
  },
  {
   "cell_type": "code",
   "execution_count": 9,
   "metadata": {},
   "outputs": [],
   "source": [
    "def extract_people2(doc):\n",
    "    t_names = [ent.text for ent in doc.ents if ent.label_ =='PERSON']\n",
    "    return t_names"
   ]
  },
  {
   "cell_type": "code",
   "execution_count": 10,
   "metadata": {},
   "outputs": [],
   "source": [
    "def get_human_names(text):\n",
    "    text = ' '.join([i for i in text.split()])\n",
    "    tokens = nltk.tokenize.word_tokenize(text)\n",
    "    pos = nltk.pos_tag(tokens)\n",
    "    sentt = nltk.ne_chunk(pos, binary = False)\n",
    "\n",
    "    person = []\n",
    "    name = \"\"\n",
    "    for subtree in sentt.subtrees(filter=lambda t: t.label() == 'PERSON'):\n",
    "        person.append(\" \".join([leaf[0] for leaf in subtree.leaves() if leaf[1] =='NNP']))\n",
    "    return person"
   ]
  },
  {
   "cell_type": "code",
   "execution_count": 11,
   "metadata": {},
   "outputs": [],
   "source": [
    "def filter_names(t_names):\n",
    "    t_names = [\" \".join([i.orth_ for i in nlp(n) if i.pos_ in ['PROPN','NOUN']]) for n in t_names]\n",
    "    t_names = list(filter(None,t_names))\n",
    "    t_names = sorted(t_names,key=lambda x: (len(x.split(\" \")),len(x)))\n",
    "#     print(t_names,len(t_names))\n",
    "    for i,v in enumerate(t_names):\n",
    "        for s in t_names[i+1:]:\n",
    "            if v in s and v!=s:\n",
    "    #             print(s,s.split(\" \"))\n",
    "                idx = t_names.index(s)\n",
    "                t_names.remove(s)\n",
    "                for k_idx, k in enumerate(s.split(\" \")):\n",
    "                    t_names.insert(idx+k_idx,k)\n",
    "    #             t_names[idx] = s.split(\" \")\n",
    "    #             print(t_names,len(t_names))\n",
    "#     print(t_names,len(t_names))\n",
    "    t_names = [i for i in t_names if len(i)>2 and not any(c.isdigit() for c in i)]\n",
    "    return Counter(t_names)"
   ]
  },
  {
   "cell_type": "code",
   "execution_count": 15,
   "metadata": {},
   "outputs": [
    {
     "name": "stdout",
     "output_type": "stream",
     "text": [
      "1917 Scene by Scene Breakdown By Alexis Howell-Jones GoIntoTheStory.com 1–6 Ordinary World Opening Image: Distant thunder, as Blake and Schofield lie with their eyes shut, by a tree. Lance Corporal Blake (19) is ordered to pick a man and bring his kit for a mission. He chooses Schofield (early 20s) who’s next to him with his eyes shut — of similar rank. Schofield in script has a “Wound Stripe” — to indicate he was previously wounded in action — not obvious on screen, but info in script. As they walk, Blake reads his mail. Schofield didn’t get any but doesn’t seem to mind. They talk of the minimal food they have. Looking at the soldiers they’re passing in the trench they’ve entered, they surmise that something is up — but their Sergeant says it’s not the Big Push they think is coming. They’re told to go in to a Dugout and meet… 6–11 Inciting Incident General Erinmore (50s) who tells Blake that Blake’s brother and his regiment, the 2nd Devons — are walking into a trap (chasing the Germans whom they think are retreating — but are safely behind a new defence line bristling with guns). If Blake doesn’t get to the 2nds leader, Colonel Mackenzie — at a wood near a town called Ecoust — and get him to call off the attack before it’s due just after dawn tomorrow, there’s going to be a massacre of 1600 men, Blake’s brother included. Blake says can get to them in time. Blake and Schofield are given a map, torches, grenades and rations. They’re given instructions to go through the trenches to the Yorks regiment and give a note to Major Stevenson who holds the line at the shortest span of No Man’S Land, where Blake and Schofield will need to cross — in daylight, without any support. Blake’s off like a shot through the… 11–14 Doubts Trenches to save his big brother. Schofield expresses doubts re risks, saying should wait until dark and worrying re risks of crossing no mans land. Blake’s undeterred. Schofield betrays that last time was told the Germans had gone, “it didn’t end well” — he’s been through prior horrors we don’t know about. They arrive at… 14–17 The Front Line. Indication of horrors of war — sniper warnings, critically injured man on stretcher. Blake knocks over an injured Nco — he’s nearly losing control of his emotions. Schofield saves him. They discuss the Somme battle — Schofield says no longer has his ribbon to indicate his involvement. They reach… 18–23 “Mentor Meeting” — Leslie Lock In The Yorkshires. Stevenson is dead. Lieutenant Leslie has command and is frayed, waiting for the relief. He reads Erinmore’s letter and mocks their belief that the Germans have gone. Says it’s a trap, but tells them the path and gives them a Flare Gun with two cartridges and says to signal if the Germans are actually gone. Blake and Schofield prepare — then step into… 23–28 No Man’S Land where they follow the grim markers Leslie had told them about — all dead men or horses — through towards the abandoned German Line. Schofield punctures his hand on razor wire. They move to the Old German Line and into a Trench — where Schofield falls. His injured hand falls inside a decaying corpse. They hide from two planes which fly over, then work their way down a steep drop into a Crater where the wire’s been destroyed, then finally make it to… 28–30 The German Front Line — Blake and Schofield creep through the deserted trench. A smouldering brazier suggests the German’s aren’t long gone. They head down the trench but find an explosion has blocked it. They find stairs leading down into the earth. There might be a way through. They switch on their torches and head down into… 30–35 A Dugout where they look through the Germans’ abandoned gear. There’s a tunnel — a way through — but they find a Tripwire, just before a hungry rat heads for it, trips it… An explosion buries Schofield. The Dugout is about to collapse. Blake digs out a dust-blinded Schofield and drags him out into the… 35–37 Tunnel where they have to jump over a mine shaft — Schofield must do it whilst still unable to see — just before the dugout collapses. Blake leads Schofield out into the light, into the… 37–41 Rear German Trenches. Blake checks over the edge and sees a quarry with destroyed German weaponry. Schofield’s angry, asking Blake why he chose him. Blake says that Schofield can go home if he wants. Schofield reacts to mention of home. They fire the flare to show they’ve made it, then plan how to get to Ecoust using the map — and head off into a… 41–44 Shattered Copse. Blake cheers up Schofield with a darkly humorous story about a rat and a soldier. Schofield tells Blake he’s due a medal for saving him — and reveals he swapped his Somme service medal for a bottle of wine. Blake says men died for those medals. Schofield says they’re not special and don’t make a difference — and opens up, saying he hated going home when knew would have to return and his family might not see him again. 44–47 Walled Orchard Schofield’s appalled that the Germans chopped down all the cherry trees in the orchard. n.b. cherry blossoms repeatedly appear during script. Blake talks of his family, revealing that family has a cherry orchard at home and he and his brother have to pick the cherries. Says that chopping the trees down only will lead to more trees later. At the end of the orchard, they see a farmhouse ahead — they have to check it’s clear. At the 47–50 French Farmhouse They split up to take front and back. Schofield heads inside but can’t find anything. He heads to the Rear to a Barn where he finds a Cow alive where the rest of the herd are dead. Schofield finds milk, drinks some and fills his flask with it. Blake says Ecoust is over the next ridge — just before they see a German Biplane being peppered by Raf gunfire — heading towards the barn! They escape just before the Biplane smashes into the barn. At the 50–52 Plane Crash Site The plane’s on fire and they manage to rescue the trapped German pilot. Schofield says should kill him to put the burnt pilot out of his misery, but Blake says should give him water. Schofield goes to get water — hears screaming — and shoots the pilot, who’s just fatally stabbed Blake. 53–58 Midpoint Blake’S Dying. Schofield tries to stop the bleeding. Knows they need help and realises won’t get there in time. Blake asks if he’s dying. Schofield admits that he is. Blake gives him his personal effects to give to his brother — tells Schofield to write to Blake’s mother and tell her that he wasn’t scared. Schofield reassures Blake he knows the way to his brother, just before Blake then breathes his last. Schofield, suddenly determined, takes Blake’s tags and leaves a family photo on his chest — tries to move Blake to a nicer resting place and is suddenly found by… 58–60 Captain Smith and his men — on their way to the new front to support a different regiment to Mackenzie’s. They help move Blake’s body to a better resting place. Schofield speaks to Smith about his mission. Smith offers to take him some of the way. Schofield follows him onto a 60–63 Country Road whilst people at head of a Convoy argue how to block a tree in their path. Smith says he’s sorry about Blake, and advises Schofield not to dwell on it. They get to the 63–66 Last Army Truck In The Convoy and Schofield is hauled in. Listens to the men inside as he grieves. Checks his watch to see how much time he has left. The Truck gets stuck in mud in a 66–69 Roadside Ditch. Schofield checks it and gives orders on how to get out. Orders all the men out to push — and his urgency shows when they don’t help quickly enough. The men realise and help him push the truck out. Schofield is emotionally broken. The men see it and talk to him. They help him back into the… 69–73 Army Truck The men are quiet now, watching Schofield. When asked, Schofield explains his mission and the stakes — and reveals he didn’t start off alone. The others realise why he’s upset. One offers him some whisky. Schofield checks the Letter with the orders is safe in a tin. The truck stops again because the bridge is down. Schofield leaves to go on on his own at the 73–75 Canal Side They wish him luck. Captain Smith tells him that if he gets to Mackenzie, to make sure there’s witnesses when he speaks to him because “some. men just want the fight”. The others leave. Schofield’s alone again — and Ecoust’s on the other side of the canal. Now he has to cross the broken bridge — and tiptoes across the broken bridge — more carefully when a Sniper in the Lock House next to it shoots at him — and eventually has to throw himself into the canal and swims to the 75–76 Other Side Of The Canal He finds a stairwell from the canal. Though he’s freezing, he gathers himself and shoots at the sniper in the Lock House. All goes quiet. Schofield, in order to check he’s killed the sniper, enters the… 77–78 Lock House And paces up the stairs, slowly, to find a German Soldier pointing his gun at him! They both shoot — the German’s bullet hits Schofield’s helmet, throwing Schofield back down the stairs and into unconsciousness… Sequence 6 To All Is Lost 78–81 Schofield wakes on the Lock House Stairs With concussion. It’s now night time. His watch is smashed. He doesn’t know what time it is — or how much he has left. He retrieves his rifle. A flare goes up, filling the room with light. The German Soldier is dead. Schofield leaves the building, heading out onto the Canal Side where he navigates his way through the town as the flares make shadows shift everywhere — braving another sniper until the flare dies. He stalks through the town — and finds another German Soldier who chases him, firing at him, getting closer, until Schofield sees a low cellar window and is able to scramble into a… 81–88 Coal Cellar And hide as the German Soldier passes by — only to find someone’s living there, the fire’s on — and finds Lauri — a French teenager. Schofield reassures her he’s not a threat. She confirms this is Ecoust and tells him where the nearby wood is. Says the river will take him there. She gets him to sit down then tends to his head wound. He thanks her — just before he hears a Baby — parents unknown — that Lauri had found. She says the baby needs milk — so he gives them the milk he had found. She asks if he has children. He doesn’t answer — but sings a nursery rhyme to the child. An emotional moment. The town clock chimes — and he knows he has to go. He heads back out into… 88–91 Ecoust’S Streets where he heads for the river — and has to evade drunk Private Muller just before he comes face to face with Baumer, a teenager. Initially trying to keep Baumer quiet, Schofield has to kill him when he yells for help. Schofield leaves his rifle and runs past Muller. Muller chases him through the streets, firing 91–92 Fleeing Through Ecoust, Schofield sees the original soldier who chased him ahead of him. Schofield swerves left down an alley — now pursued by the two Germans. He heads for a bridge, vaults it and drops 40 feet into… 93–95 All Is Lost The River Where he’s propelled down the white waters by the fast current past jagged rocks, battered — then careens over a waterfall! Nothing… then Schofield emerges from the depths. Schofield is nearly unconscious in the now lush surroundings untouched by war. He is “ready to accept that this is the end. He knows too well there are worse places, worse ways…”. Compare — Schofield was buried before after explosion and wanted to live — here in a beautiful place — and thinking of dying. Will he give in and die in a safe, peaceful place but not save the men — or will he risk the worst places to die in in order to live and save lives? 95- 96 Rededication He starts to slip down — then is surrounded by Cherry Blossoms and a dam built with trees and bodies. He is able to clamber out onto The River Bank and collapses, crying “for the river, for life, for Blake, for the baby. The morning is forming”. He hears singing and heads into 96–99 The Woods to find the source — a company of men standing still — 200 strong — listening to a man sing, prior to their going into battle. After the song ends, he tells them he needs to find the Devons. The response — “We’re the Devons”. They haven’t gone over yet since they’re the second wave. As D Company, they go last. Schofield asks where Colonel Mackenzie is — he’s down at the line. Schofield tears off towards his location into… 99–101 The Comms Trench, asking where Mackenzie is — as A and B companies prepare to go over the top. He tells a Lieutenant the attack’s been called off, but the Lieutenant won’t believe him and tells him to speak to the Captain. Schofield rushes to the 101–102 2nd Front Line Trench And finds the terrified, useless, blubbering Captain Ivins. He’s no help. As Schofield continues to search for Mackenzie, the Germans start pounding the line with massive shells, getting closer and closer… 102- 104 Schofield keeps running, but there’s too many soldiers in his way. The place behind him where Captain Ivins was is obliterated. It’s chaos and the bombardment wreaks hell on the line. 100 yards ahead of him, there’s another direct hit, blocking his passage. A wall of British soldiers in front of him, too thick to get past. He can’t get through. 104–105 Final Attempt Schofield confronts the C.O, Lieutenant Richards, as he gives the one minute order. Again says he has orders to stop the attack. The C.O. says Mackenzie is 300 yards up the line, but Schofield will have to wait until the first wave goes over. But if he waits, Blake’s brother is going to die! Schofield says he can’t — and gets up on the firing step to go into No Man’s Land — to sprint 300 yards with no cover, no weapon…. Compare To Earlier when about to start mission, said was unhappy to risk himself in No Mans Land. Schofield bursts out of the trench and launches himself into… 105–106 No Man’S Land — and runs the 300 yards, parallel to the trench — as whistles sound and 600 soldiers of A Company pour out of the trenches around him amidst a horrible, destructive bombardment — and leaps in desperation into the… 106–108 2nd Command Trench Where B company have 2 minutes before they’re due to go over the top. Schofield desperately seeks out Mackenzie, despite the attentions of two orderlies who hold him back, finally breaking into… 108–113 Final Struggle Mackenzie’S Dugout Ante-Room He’s restrained by the orderlies and hauled out –the captain there ordering the Sargeant to send in the next wave… He breaks back in and yells for Colonel Mackenzie — finally in front of him. Schofield says he has orders from Erinmore that the attack should not proceed — but Mackenzie won’t take the letter Schofield offers and says Schofield is too late. Major Hepburn next to him looks more concerned. Mackenzie thinks if they hesitate they will lose. Schofield begs him to read the letter. Mackenzie still thinks he has the Germans on the run — but Schofield says the Germans want him to attack — they’ve been planning it for months. This finally gets Mackenzie to read the letter. They all wait for him to decide. He looks up… “Stand them down”. Schofield closes his eyes in relief as whistles call off the attack. Mackenzie tells him he hoped today would be a good day — but “hope is a dangerous thing”. He says command will just send a different message to attack next week, and that war only ends one way — “last man standing”. He tells Schofield to f*** off, but on the way out, Major Hepburn tells him “well done”. Schofield asks where Lieutenant Blake is — and is told he was in the first wave. He’s told to check the casualty clearing station and heads out to the… 113 Trenches watching B, C and D Companies pull in the survivors. Schofield looks for officers to see if Blake’s brother is amongst them, and ends up in a… 114–117 Meadow Where various medics and chaplains tend to the injured. Schofield walks amongst the maimed and the bodies. Sees no officer — then finally finds Lieutenant Blake, Blake’s brother, very much alive. When Schofield says he was sent with Blake, his brother realises Blake’s dead. Schofield reassures him. He gives Blake’s possessions to his brother and says would like to write to their mother (not to say Blake wasn’t scared as Blake had asked, but) to tell her Blake wasn’t alone. Schofield says Blake told funny stories — and that he saved Schofield’s life. Blake’s brother says he’s glad Schofield was with him. Schofield wanders off into the Meadow. He spies an untouched Oak Tree and sits by it. He pulls out two photographs, one of His Two Daughters, the other of his Wife. On the back of the photo, a message in her writing — “Come Back To Us”. He finally shows his expression of love. End Image — comparing to opening image – a wiser Schofield who now no longer runs from feelings of love and connection to family back home whereas did before — comments re mail etc. - It’s sunny now when there was distant thunder before. - He opened his eyes from rest at the start — and now he can close them again and feel the sunshine, now at proper rest.\n",
      "---------------------------------\n"
     ]
    },
    {
     "name": "stdout",
     "output_type": "stream",
     "text": [
      "Counter({'Blake': 51, 'Schofield': 38, 'Mackenzie': 6, 'Smith': 5, 'Leslie': 3, 'Ecoust': 3, 'Lieutenant': 3, 'Ivins': 2, 'Devons': 2, 'Hepburn': 2, 'Erinmore': 2, 'Stevenson': 2, 'C.O.': 1, 'Truck': 1, 'German': 1, 'Muller': 1, 'Man Land': 1, 'Oak Tree': 1, 'Lock': 1, 'Midpoint': 1, 'Cherry Blossoms': 1, 'Richards': 1, 'Alexis Howell Jones': 1, 'Lance': 1, 'Corporal': 1}) Counter({'Schofield': 77, 'Blake': 41, 'Mackenzie': 10, 'Smith': 5, 'Ecoust': 5, 'Line': 3, 'Leslie': 3, 'Captain': 3, 'Lauri': 2, 'Baumer': 2, 'Muller': 2, 'Hepburn': 2, 'Trenches': 2, 'Stevenson': 2, 'Ivins': 2, 'Raf': 1, 'Alexis': 1, 'Lock': 1, 'Trench': 1, 'D Companies': 1, 'Wound Stripe': 1, 'Scene Breakdown': 1, 'Doubts': 1, 'Cherry Blossoms': 1, 'Orchard': 1, 'Colonel': 1, 'Lance': 1, 'Corporal': 1})\n",
      "---------------------------------\n",
      "Mackenzie: (l2=6), (l3=10)\n",
      "Leslie: (l2=3), (l3=3)\n",
      "Lance: (l2=1), (l3=1)\n",
      "Muller: (l2=1), (l3=2)\n",
      "Hepburn: (l2=2), (l3=2)\n",
      "Ecoust: (l2=3), (l3=5)\n",
      "Ivins: (l2=2), (l3=2)\n",
      "Schofield: (l2=38), (l3=77)\n",
      "Corporal: (l2=1), (l3=1)\n",
      "Lock: (l2=1), (l3=1)\n",
      "Cherry Blossoms: (l2=1), (l3=1)\n",
      "Smith: (l2=5), (l3=5)\n",
      "Stevenson: (l2=2), (l3=2)\n",
      "Blake: (l2=51), (l3=41)\n",
      "---------------------------------\n",
      "Midpoint 1\n",
      "Alexis Howell Jones 1\n",
      "Lieutenant 3\n",
      "Truck 1\n",
      "Man Land 1\n",
      "C.O. 1\n",
      "Oak Tree 1\n",
      "German 1\n",
      "Erinmore 2\n",
      "Richards 1\n",
      "Devons 2\n",
      "---------------------------------\n",
      "Wound Stripe 1\n",
      "Captain 3\n",
      "Raf 1\n",
      "Lauri 2\n",
      "Scene Breakdown 1\n",
      "Colonel 1\n",
      "Doubts 1\n",
      "Trenches 2\n",
      "Line 3\n",
      "Alexis 1\n",
      "Baumer 2\n",
      "D Companies 1\n",
      "Trench 1\n",
      "Orchard 1\n",
      "Mackenzie: (l2=6), (l3=10)\n",
      "Leslie: (l2=3), (l3=3)\n",
      "Ecoust: (l2=3), (l3=5)\n",
      "Schofield: (l2=38), (l3=77)\n",
      "Smith: (l2=5), (l3=5)\n",
      "Blake: (l2=51), (l3=41)\n"
     ]
    }
   ],
   "source": [
    "a_ = df['summary_doc'][0]\n",
    "print(df['summary_doc'][0])\n",
    "print('---------------------------------')\n",
    "\n",
    "l2 = filter_names(extract_people2(a_))\n",
    "l3 = filter_names(get_human_names(str(a_)))\n",
    "\n",
    "print(l2,l3)\n",
    "print('---------------------------------')\n",
    "\n",
    "f_l = list(set(l2) & set(l3))\n",
    "for i in f_l:\n",
    "    print(f\"{i}: (l2={l2[i]}), (l3={l3[i]})\")\n",
    "print('---------------------------------')\n",
    "for i in list(set(l2)-set(f_l)):\n",
    "    print(i,l2[i])\n",
    "print('---------------------------------')\n",
    "for i in list(set(l3)-set(f_l)):\n",
    "    print(i,l3[i])\n",
    "\n",
    "f_l = list(set(l2) & set(l3))\n",
    "f_l_f = [i for i in f_l if max(l2[i],l3[i])>2]+\\\n",
    "        [i for i in list(set(l3)-set(f_l)) if l3[i]>3]+\\\n",
    "        [i for i in list(set(l2)-set(f_l)) if l2[i]>3]\n",
    "for i in f_l_f:\n",
    "    print(f\"{i}: (l2={l2[i]}), (l3={l3[i]})\")"
   ]
  },
  {
   "cell_type": "code",
   "execution_count": 51,
   "metadata": {},
   "outputs": [],
   "source": [
    "def extract_characters(x,verbose=False):\n",
    "    l2 = filter_names(extract_people2(x))\n",
    "    l3 = filter_names(get_human_names(str(x)))\n",
    "    f_l = list(set(l2) & set(l3))\n",
    "    if verbose:\n",
    "        print(l2)\n",
    "        print(l3)\n",
    "        print(f_l)\n",
    "    f_l_f = [i for i in f_l if max(l2[i],l3[i])>2]+\\\n",
    "            [i for i in list(set(l3)-set(f_l)) if l3[i]>3]+\\\n",
    "            [i for i in list(set(l2)-set(f_l)) if l2[i]>3]\n",
    "    return f_l_f"
   ]
  },
  {
   "cell_type": "code",
   "execution_count": 20,
   "metadata": {},
   "outputs": [],
   "source": [
    "df['characters'] = df['summary_doc'].apply(lambda x: extract_characters(x))"
   ]
  },
  {
   "cell_type": "code",
   "execution_count": null,
   "metadata": {},
   "outputs": [],
   "source": [
    "df.to_csv('./movie_w_characters.csv',index=None)"
   ]
  },
  {
   "cell_type": "markdown",
   "metadata": {},
   "source": [
    "# load back movie characters"
   ]
  },
  {
   "cell_type": "code",
   "execution_count": 3,
   "metadata": {},
   "outputs": [],
   "source": [
    "df = pd.read_csv('./movie_w_characters.csv')"
   ]
  },
  {
   "cell_type": "code",
   "execution_count": 34,
   "metadata": {},
   "outputs": [
    {
     "data": {
      "text/html": [
       "<div>\n",
       "<style scoped>\n",
       "    .dataframe tbody tr th:only-of-type {\n",
       "        vertical-align: middle;\n",
       "    }\n",
       "\n",
       "    .dataframe tbody tr th {\n",
       "        vertical-align: top;\n",
       "    }\n",
       "\n",
       "    .dataframe thead th {\n",
       "        text-align: right;\n",
       "    }\n",
       "</style>\n",
       "<table border=\"1\" class=\"dataframe\">\n",
       "  <thead>\n",
       "    <tr style=\"text-align: right;\">\n",
       "      <th></th>\n",
       "      <th>movie</th>\n",
       "      <th>summary</th>\n",
       "      <th>summary_preprocess</th>\n",
       "      <th>summary_doc</th>\n",
       "      <th>characters</th>\n",
       "      <th>summary_resolved</th>\n",
       "    </tr>\n",
       "  </thead>\n",
       "  <tbody>\n",
       "    <tr>\n",
       "      <th>0</th>\n",
       "      <td>1917</td>\n",
       "      <td>1917\\nScene by Scene Breakdown\\nBy Alexis Howe...</td>\n",
       "      <td>1917 Scene by Scene Breakdown By Alexis Howell...</td>\n",
       "      <td>(1917, Scene, by, Scene, Breakdown, By, Alexis...</td>\n",
       "      <td>[Leslie, Smith, Mackenzie, Ecoust, Blake, Scho...</td>\n",
       "      <td>1917 Scene by Scene Breakdown By Alexis Howell...</td>\n",
       "    </tr>\n",
       "    <tr>\n",
       "      <th>1</th>\n",
       "      <td>A Monster Calls</td>\n",
       "      <td>A Monster Calls\\nScene by Scene Breakdown\\nby ...</td>\n",
       "      <td>A Monster Calls Scene by Scene Breakdown by An...</td>\n",
       "      <td>(A, Monster, Calls, Scene, by, Scene, Breakdow...</td>\n",
       "      <td>[Mum, Harry, Conor, Grandma, Lily, Dad]</td>\n",
       "      <td>A Monster Calls Scene by Scene Breakdown by An...</td>\n",
       "    </tr>\n",
       "    <tr>\n",
       "      <th>2</th>\n",
       "      <td>A Quiet Place</td>\n",
       "      <td>A Quiet Place\\nScene by Scene Breakdown\\nBy Ma...</td>\n",
       "      <td>A Quiet Place Scene by Scene Breakdown By Mark...</td>\n",
       "      <td>(A, Quiet, Place, Scene, by, Scene, Breakdown,...</td>\n",
       "      <td>[Beau, Lee, Marcus, Abbott, Regan, Evelyn, Black]</td>\n",
       "      <td>A Quiet Place Scene by Scene Breakdown By Mark...</td>\n",
       "    </tr>\n",
       "    <tr>\n",
       "      <th>3</th>\n",
       "      <td>All is Lost</td>\n",
       "      <td>All Is Lost\\nScene-by-Scene Breakdown\\nWritten...</td>\n",
       "      <td>All Is Lost Scene-by-Scene Breakdown Written b...</td>\n",
       "      <td>(All, Is, Lost, Scene, -, by, -, Scene, Breakd...</td>\n",
       "      <td>[]</td>\n",
       "      <td>All Is Lost Scene-by-Scene Breakdown Written b...</td>\n",
       "    </tr>\n",
       "    <tr>\n",
       "      <th>4</th>\n",
       "      <td>American Hustle</td>\n",
       "      <td>American Hustle\\nScene By Scene Breakdown\\nBy ...</td>\n",
       "      <td>American Hustle Scene By Scene Breakdown By Jo...</td>\n",
       "      <td>(American, Hustle, Scene, By, Scene, Breakdown...</td>\n",
       "      <td>[Dolly, Richie, Stoddard, Greensley, Amado, Pe...</td>\n",
       "      <td>American Hustle Scene By Scene Breakdown By Jo...</td>\n",
       "    </tr>\n",
       "  </tbody>\n",
       "</table>\n",
       "</div>"
      ],
      "text/plain": [
       "             movie                                            summary  \\\n",
       "0             1917  1917\\nScene by Scene Breakdown\\nBy Alexis Howe...   \n",
       "1  A Monster Calls  A Monster Calls\\nScene by Scene Breakdown\\nby ...   \n",
       "2    A Quiet Place  A Quiet Place\\nScene by Scene Breakdown\\nBy Ma...   \n",
       "3      All is Lost  All Is Lost\\nScene-by-Scene Breakdown\\nWritten...   \n",
       "4  American Hustle  American Hustle\\nScene By Scene Breakdown\\nBy ...   \n",
       "\n",
       "                                  summary_preprocess  \\\n",
       "0  1917 Scene by Scene Breakdown By Alexis Howell...   \n",
       "1  A Monster Calls Scene by Scene Breakdown by An...   \n",
       "2  A Quiet Place Scene by Scene Breakdown By Mark...   \n",
       "3  All Is Lost Scene-by-Scene Breakdown Written b...   \n",
       "4  American Hustle Scene By Scene Breakdown By Jo...   \n",
       "\n",
       "                                         summary_doc  \\\n",
       "0  (1917, Scene, by, Scene, Breakdown, By, Alexis...   \n",
       "1  (A, Monster, Calls, Scene, by, Scene, Breakdow...   \n",
       "2  (A, Quiet, Place, Scene, by, Scene, Breakdown,...   \n",
       "3  (All, Is, Lost, Scene, -, by, -, Scene, Breakd...   \n",
       "4  (American, Hustle, Scene, By, Scene, Breakdown...   \n",
       "\n",
       "                                          characters  \\\n",
       "0  [Leslie, Smith, Mackenzie, Ecoust, Blake, Scho...   \n",
       "1            [Mum, Harry, Conor, Grandma, Lily, Dad]   \n",
       "2  [Beau, Lee, Marcus, Abbott, Regan, Evelyn, Black]   \n",
       "3                                                 []   \n",
       "4  [Dolly, Richie, Stoddard, Greensley, Amado, Pe...   \n",
       "\n",
       "                                    summary_resolved  \n",
       "0  1917 Scene by Scene Breakdown By Alexis Howell...  \n",
       "1  A Monster Calls Scene by Scene Breakdown by An...  \n",
       "2  A Quiet Place Scene by Scene Breakdown By Mark...  \n",
       "3  All Is Lost Scene-by-Scene Breakdown Written b...  \n",
       "4  American Hustle Scene By Scene Breakdown By Jo...  "
      ]
     },
     "execution_count": 34,
     "metadata": {},
     "output_type": "execute_result"
    }
   ],
   "source": [
    "df.head()"
   ]
  },
  {
   "cell_type": "code",
   "execution_count": 10,
   "metadata": {},
   "outputs": [],
   "source": [
    "df['characters']=df['characters'].apply(eval)"
   ]
  },
  {
   "cell_type": "markdown",
   "metadata": {},
   "source": [
    "# Neuralcoref"
   ]
  },
  {
   "cell_type": "code",
   "execution_count": 5,
   "metadata": {},
   "outputs": [
    {
     "name": "stderr",
     "output_type": "stream",
     "text": [
      "/Users/vibhavagarwal/miniconda2/envs/basic_ml/lib/python3.7/importlib/_bootstrap.py:219: RuntimeWarning: spacy.morphology.Morphology size changed, may indicate binary incompatibility. Expected 104 from C header, got 112 from PyObject\n",
      "  return f(*args, **kwds)\n",
      "/Users/vibhavagarwal/miniconda2/envs/basic_ml/lib/python3.7/importlib/_bootstrap.py:219: RuntimeWarning: spacy.vocab.Vocab size changed, may indicate binary incompatibility. Expected 96 from C header, got 104 from PyObject\n",
      "  return f(*args, **kwds)\n"
     ]
    }
   ],
   "source": [
    "import neuralcoref\n",
    "coref = neuralcoref.NeuralCoref(nlp.vocab)\n",
    "nlp.add_pipe(coref, name='neuralcoref')"
   ]
  },
  {
   "cell_type": "code",
   "execution_count": 13,
   "metadata": {},
   "outputs": [
    {
     "data": {
      "text/plain": [
       "['tagger', 'parser', 'ner', 'neuralcoref']"
      ]
     },
     "execution_count": 13,
     "metadata": {},
     "output_type": "execute_result"
    }
   ],
   "source": [
    "nlp.pipe_names"
   ]
  },
  {
   "cell_type": "code",
   "execution_count": 14,
   "metadata": {},
   "outputs": [],
   "source": [
    "df['summary_doc'] = df['summary_preprocess'].apply(lambda x:nlp(x))"
   ]
  },
  {
   "cell_type": "code",
   "execution_count": 6,
   "metadata": {},
   "outputs": [],
   "source": [
    "doc = nlp(df['summary_preprocess'][10])"
   ]
  },
  {
   "cell_type": "code",
   "execution_count": 28,
   "metadata": {},
   "outputs": [],
   "source": [
    "df['summary_resolved'] = df['summary_doc'].apply(lambda x: x._.coref_resolved)"
   ]
  },
  {
   "cell_type": "code",
   "execution_count": 38,
   "metadata": {
    "scrolled": true
   },
   "outputs": [
    {
     "data": {
      "text/html": [
       "<div>\n",
       "<style scoped>\n",
       "    .dataframe tbody tr th:only-of-type {\n",
       "        vertical-align: middle;\n",
       "    }\n",
       "\n",
       "    .dataframe tbody tr th {\n",
       "        vertical-align: top;\n",
       "    }\n",
       "\n",
       "    .dataframe thead th {\n",
       "        text-align: right;\n",
       "    }\n",
       "</style>\n",
       "<table border=\"1\" class=\"dataframe\">\n",
       "  <thead>\n",
       "    <tr style=\"text-align: right;\">\n",
       "      <th></th>\n",
       "      <th>movie</th>\n",
       "      <th>summary</th>\n",
       "      <th>summary_preprocess</th>\n",
       "      <th>summary_doc</th>\n",
       "      <th>characters</th>\n",
       "      <th>summary_resolved</th>\n",
       "    </tr>\n",
       "  </thead>\n",
       "  <tbody>\n",
       "    <tr>\n",
       "      <th>0</th>\n",
       "      <td>1917</td>\n",
       "      <td>1917\\nScene by Scene Breakdown\\nBy Alexis Howe...</td>\n",
       "      <td>1917 Scene by Scene Breakdown By Alexis Howell...</td>\n",
       "      <td>(1917, Scene, by, Scene, Breakdown, By, Alexis...</td>\n",
       "      <td>[Leslie, Smith, Mackenzie, Ecoust, Blake, Scho...</td>\n",
       "      <td>1917 Scene by Scene Breakdown By Alexis Howell...</td>\n",
       "    </tr>\n",
       "    <tr>\n",
       "      <th>1</th>\n",
       "      <td>A Monster Calls</td>\n",
       "      <td>A Monster Calls\\nScene by Scene Breakdown\\nby ...</td>\n",
       "      <td>A Monster Calls Scene by Scene Breakdown by An...</td>\n",
       "      <td>(A, Monster, Calls, Scene, by, Scene, Breakdow...</td>\n",
       "      <td>[Mum, Harry, Conor, Grandma, Lily, Dad]</td>\n",
       "      <td>A Monster Calls Scene by Scene Breakdown by An...</td>\n",
       "    </tr>\n",
       "    <tr>\n",
       "      <th>2</th>\n",
       "      <td>A Quiet Place</td>\n",
       "      <td>A Quiet Place\\nScene by Scene Breakdown\\nBy Ma...</td>\n",
       "      <td>A Quiet Place Scene by Scene Breakdown By Mark...</td>\n",
       "      <td>(A, Quiet, Place, Scene, by, Scene, Breakdown,...</td>\n",
       "      <td>[Beau, Lee, Marcus, Abbott, Regan, Evelyn, Black]</td>\n",
       "      <td>A Quiet Place Scene by Scene Breakdown By Mark...</td>\n",
       "    </tr>\n",
       "    <tr>\n",
       "      <th>3</th>\n",
       "      <td>All is Lost</td>\n",
       "      <td>All Is Lost\\nScene-by-Scene Breakdown\\nWritten...</td>\n",
       "      <td>All Is Lost Scene-by-Scene Breakdown Written b...</td>\n",
       "      <td>(All, Is, Lost, Scene, -, by, -, Scene, Breakd...</td>\n",
       "      <td>[]</td>\n",
       "      <td>All Is Lost Scene-by-Scene Breakdown Written b...</td>\n",
       "    </tr>\n",
       "    <tr>\n",
       "      <th>4</th>\n",
       "      <td>American Hustle</td>\n",
       "      <td>American Hustle\\nScene By Scene Breakdown\\nBy ...</td>\n",
       "      <td>American Hustle Scene By Scene Breakdown By Jo...</td>\n",
       "      <td>(American, Hustle, Scene, By, Scene, Breakdown...</td>\n",
       "      <td>[Dolly, Richie, Stoddard, Greensley, Amado, Pe...</td>\n",
       "      <td>American Hustle Scene By Scene Breakdown By Jo...</td>\n",
       "    </tr>\n",
       "  </tbody>\n",
       "</table>\n",
       "</div>"
      ],
      "text/plain": [
       "             movie                                            summary  \\\n",
       "0             1917  1917\\nScene by Scene Breakdown\\nBy Alexis Howe...   \n",
       "1  A Monster Calls  A Monster Calls\\nScene by Scene Breakdown\\nby ...   \n",
       "2    A Quiet Place  A Quiet Place\\nScene by Scene Breakdown\\nBy Ma...   \n",
       "3      All is Lost  All Is Lost\\nScene-by-Scene Breakdown\\nWritten...   \n",
       "4  American Hustle  American Hustle\\nScene By Scene Breakdown\\nBy ...   \n",
       "\n",
       "                                  summary_preprocess  \\\n",
       "0  1917 Scene by Scene Breakdown By Alexis Howell...   \n",
       "1  A Monster Calls Scene by Scene Breakdown by An...   \n",
       "2  A Quiet Place Scene by Scene Breakdown By Mark...   \n",
       "3  All Is Lost Scene-by-Scene Breakdown Written b...   \n",
       "4  American Hustle Scene By Scene Breakdown By Jo...   \n",
       "\n",
       "                                         summary_doc  \\\n",
       "0  (1917, Scene, by, Scene, Breakdown, By, Alexis...   \n",
       "1  (A, Monster, Calls, Scene, by, Scene, Breakdow...   \n",
       "2  (A, Quiet, Place, Scene, by, Scene, Breakdown,...   \n",
       "3  (All, Is, Lost, Scene, -, by, -, Scene, Breakd...   \n",
       "4  (American, Hustle, Scene, By, Scene, Breakdown...   \n",
       "\n",
       "                                          characters  \\\n",
       "0  [Leslie, Smith, Mackenzie, Ecoust, Blake, Scho...   \n",
       "1            [Mum, Harry, Conor, Grandma, Lily, Dad]   \n",
       "2  [Beau, Lee, Marcus, Abbott, Regan, Evelyn, Black]   \n",
       "3                                                 []   \n",
       "4  [Dolly, Richie, Stoddard, Greensley, Amado, Pe...   \n",
       "\n",
       "                                    summary_resolved  \n",
       "0  1917 Scene by Scene Breakdown By Alexis Howell...  \n",
       "1  A Monster Calls Scene by Scene Breakdown by An...  \n",
       "2  A Quiet Place Scene by Scene Breakdown By Mark...  \n",
       "3  All Is Lost Scene-by-Scene Breakdown Written b...  \n",
       "4  American Hustle Scene By Scene Breakdown By Jo...  "
      ]
     },
     "execution_count": 38,
     "metadata": {},
     "output_type": "execute_result"
    }
   ],
   "source": [
    "df.head()"
   ]
  },
  {
   "cell_type": "code",
   "execution_count": 47,
   "metadata": {},
   "outputs": [
    {
     "data": {
      "text/plain": [
       "False"
      ]
     },
     "execution_count": 47,
     "metadata": {},
     "output_type": "execute_result"
    }
   ],
   "source": [
    "nlp.remove_pipe('neuralcoref')\n",
    "nlp.has_pipe('neuralcoref')"
   ]
  },
  {
   "cell_type": "code",
   "execution_count": 48,
   "metadata": {},
   "outputs": [],
   "source": [
    "df['summary_r_doc'] = list(nlp.pipe(df['summary_resolved'],n_process=20,batch_size=64))"
   ]
  },
  {
   "cell_type": "code",
   "execution_count": 49,
   "metadata": {},
   "outputs": [
    {
     "data": {
      "text/html": [
       "<div>\n",
       "<style scoped>\n",
       "    .dataframe tbody tr th:only-of-type {\n",
       "        vertical-align: middle;\n",
       "    }\n",
       "\n",
       "    .dataframe tbody tr th {\n",
       "        vertical-align: top;\n",
       "    }\n",
       "\n",
       "    .dataframe thead th {\n",
       "        text-align: right;\n",
       "    }\n",
       "</style>\n",
       "<table border=\"1\" class=\"dataframe\">\n",
       "  <thead>\n",
       "    <tr style=\"text-align: right;\">\n",
       "      <th></th>\n",
       "      <th>movie</th>\n",
       "      <th>summary</th>\n",
       "      <th>summary_preprocess</th>\n",
       "      <th>summary_doc</th>\n",
       "      <th>characters</th>\n",
       "      <th>summary_resolved</th>\n",
       "      <th>summary_r_doc</th>\n",
       "    </tr>\n",
       "  </thead>\n",
       "  <tbody>\n",
       "    <tr>\n",
       "      <th>0</th>\n",
       "      <td>1917</td>\n",
       "      <td>1917\\nScene by Scene Breakdown\\nBy Alexis Howe...</td>\n",
       "      <td>1917 Scene by Scene Breakdown By Alexis Howell...</td>\n",
       "      <td>(1917, Scene, by, Scene, Breakdown, By, Alexis...</td>\n",
       "      <td>[Leslie, Smith, Mackenzie, Ecoust, Blake, Scho...</td>\n",
       "      <td>1917 Scene by Scene Breakdown By Alexis Howell...</td>\n",
       "      <td>(1917, Scene, by, Scene, Breakdown, By, Alexis...</td>\n",
       "    </tr>\n",
       "    <tr>\n",
       "      <th>1</th>\n",
       "      <td>A Monster Calls</td>\n",
       "      <td>A Monster Calls\\nScene by Scene Breakdown\\nby ...</td>\n",
       "      <td>A Monster Calls Scene by Scene Breakdown by An...</td>\n",
       "      <td>(A, Monster, Calls, Scene, by, Scene, Breakdow...</td>\n",
       "      <td>[Mum, Harry, Conor, Grandma, Lily, Dad]</td>\n",
       "      <td>A Monster Calls Scene by Scene Breakdown by An...</td>\n",
       "      <td>(A, Monster, Calls, Scene, by, Scene, Breakdow...</td>\n",
       "    </tr>\n",
       "    <tr>\n",
       "      <th>2</th>\n",
       "      <td>A Quiet Place</td>\n",
       "      <td>A Quiet Place\\nScene by Scene Breakdown\\nBy Ma...</td>\n",
       "      <td>A Quiet Place Scene by Scene Breakdown By Mark...</td>\n",
       "      <td>(A, Quiet, Place, Scene, by, Scene, Breakdown,...</td>\n",
       "      <td>[Beau, Lee, Marcus, Abbott, Regan, Evelyn, Black]</td>\n",
       "      <td>A Quiet Place Scene by Scene Breakdown By Mark...</td>\n",
       "      <td>(A, Quiet, Place, Scene, by, Scene, Breakdown,...</td>\n",
       "    </tr>\n",
       "    <tr>\n",
       "      <th>3</th>\n",
       "      <td>All is Lost</td>\n",
       "      <td>All Is Lost\\nScene-by-Scene Breakdown\\nWritten...</td>\n",
       "      <td>All Is Lost Scene-by-Scene Breakdown Written b...</td>\n",
       "      <td>(All, Is, Lost, Scene, -, by, -, Scene, Breakd...</td>\n",
       "      <td>[]</td>\n",
       "      <td>All Is Lost Scene-by-Scene Breakdown Written b...</td>\n",
       "      <td>(All, Is, Lost, Scene, -, by, -, Scene, Breakd...</td>\n",
       "    </tr>\n",
       "    <tr>\n",
       "      <th>4</th>\n",
       "      <td>American Hustle</td>\n",
       "      <td>American Hustle\\nScene By Scene Breakdown\\nBy ...</td>\n",
       "      <td>American Hustle Scene By Scene Breakdown By Jo...</td>\n",
       "      <td>(American, Hustle, Scene, By, Scene, Breakdown...</td>\n",
       "      <td>[Dolly, Richie, Stoddard, Greensley, Amado, Pe...</td>\n",
       "      <td>American Hustle Scene By Scene Breakdown By Jo...</td>\n",
       "      <td>(American, Hustle, Scene, By, Scene, Breakdown...</td>\n",
       "    </tr>\n",
       "  </tbody>\n",
       "</table>\n",
       "</div>"
      ],
      "text/plain": [
       "             movie                                            summary  \\\n",
       "0             1917  1917\\nScene by Scene Breakdown\\nBy Alexis Howe...   \n",
       "1  A Monster Calls  A Monster Calls\\nScene by Scene Breakdown\\nby ...   \n",
       "2    A Quiet Place  A Quiet Place\\nScene by Scene Breakdown\\nBy Ma...   \n",
       "3      All is Lost  All Is Lost\\nScene-by-Scene Breakdown\\nWritten...   \n",
       "4  American Hustle  American Hustle\\nScene By Scene Breakdown\\nBy ...   \n",
       "\n",
       "                                  summary_preprocess  \\\n",
       "0  1917 Scene by Scene Breakdown By Alexis Howell...   \n",
       "1  A Monster Calls Scene by Scene Breakdown by An...   \n",
       "2  A Quiet Place Scene by Scene Breakdown By Mark...   \n",
       "3  All Is Lost Scene-by-Scene Breakdown Written b...   \n",
       "4  American Hustle Scene By Scene Breakdown By Jo...   \n",
       "\n",
       "                                         summary_doc  \\\n",
       "0  (1917, Scene, by, Scene, Breakdown, By, Alexis...   \n",
       "1  (A, Monster, Calls, Scene, by, Scene, Breakdow...   \n",
       "2  (A, Quiet, Place, Scene, by, Scene, Breakdown,...   \n",
       "3  (All, Is, Lost, Scene, -, by, -, Scene, Breakd...   \n",
       "4  (American, Hustle, Scene, By, Scene, Breakdown...   \n",
       "\n",
       "                                          characters  \\\n",
       "0  [Leslie, Smith, Mackenzie, Ecoust, Blake, Scho...   \n",
       "1            [Mum, Harry, Conor, Grandma, Lily, Dad]   \n",
       "2  [Beau, Lee, Marcus, Abbott, Regan, Evelyn, Black]   \n",
       "3                                                 []   \n",
       "4  [Dolly, Richie, Stoddard, Greensley, Amado, Pe...   \n",
       "\n",
       "                                    summary_resolved  \\\n",
       "0  1917 Scene by Scene Breakdown By Alexis Howell...   \n",
       "1  A Monster Calls Scene by Scene Breakdown by An...   \n",
       "2  A Quiet Place Scene by Scene Breakdown By Mark...   \n",
       "3  All Is Lost Scene-by-Scene Breakdown Written b...   \n",
       "4  American Hustle Scene By Scene Breakdown By Jo...   \n",
       "\n",
       "                                       summary_r_doc  \n",
       "0  (1917, Scene, by, Scene, Breakdown, By, Alexis...  \n",
       "1  (A, Monster, Calls, Scene, by, Scene, Breakdow...  \n",
       "2  (A, Quiet, Place, Scene, by, Scene, Breakdown,...  \n",
       "3  (All, Is, Lost, Scene, -, by, -, Scene, Breakd...  \n",
       "4  (American, Hustle, Scene, By, Scene, Breakdown...  "
      ]
     },
     "execution_count": 49,
     "metadata": {},
     "output_type": "execute_result"
    }
   ],
   "source": [
    "df.head()"
   ]
  },
  {
   "cell_type": "code",
   "execution_count": 52,
   "metadata": {},
   "outputs": [],
   "source": [
    "df['characters_nc'] = df['summary_r_doc'].apply(lambda x: extract_characters(x))"
   ]
  },
  {
   "cell_type": "code",
   "execution_count": 53,
   "metadata": {},
   "outputs": [
    {
     "data": {
      "text/html": [
       "<div>\n",
       "<style scoped>\n",
       "    .dataframe tbody tr th:only-of-type {\n",
       "        vertical-align: middle;\n",
       "    }\n",
       "\n",
       "    .dataframe tbody tr th {\n",
       "        vertical-align: top;\n",
       "    }\n",
       "\n",
       "    .dataframe thead th {\n",
       "        text-align: right;\n",
       "    }\n",
       "</style>\n",
       "<table border=\"1\" class=\"dataframe\">\n",
       "  <thead>\n",
       "    <tr style=\"text-align: right;\">\n",
       "      <th></th>\n",
       "      <th>movie</th>\n",
       "      <th>summary</th>\n",
       "      <th>summary_preprocess</th>\n",
       "      <th>summary_doc</th>\n",
       "      <th>characters</th>\n",
       "      <th>summary_resolved</th>\n",
       "      <th>summary_r_doc</th>\n",
       "      <th>characters_nc</th>\n",
       "    </tr>\n",
       "  </thead>\n",
       "  <tbody>\n",
       "    <tr>\n",
       "      <th>0</th>\n",
       "      <td>1917</td>\n",
       "      <td>1917\\nScene by Scene Breakdown\\nBy Alexis Howe...</td>\n",
       "      <td>1917 Scene by Scene Breakdown By Alexis Howell...</td>\n",
       "      <td>(1917, Scene, by, Scene, Breakdown, By, Alexis...</td>\n",
       "      <td>[Leslie, Smith, Mackenzie, Ecoust, Blake, Scho...</td>\n",
       "      <td>1917 Scene by Scene Breakdown By Alexis Howell...</td>\n",
       "      <td>(1917, Scene, by, Scene, Breakdown, By, Alexis...</td>\n",
       "      <td>[Blake, Smith, Mackenzie, Lance, Ecoust, Schof...</td>\n",
       "    </tr>\n",
       "    <tr>\n",
       "      <th>1</th>\n",
       "      <td>A Monster Calls</td>\n",
       "      <td>A Monster Calls\\nScene by Scene Breakdown\\nby ...</td>\n",
       "      <td>A Monster Calls Scene by Scene Breakdown by An...</td>\n",
       "      <td>(A, Monster, Calls, Scene, by, Scene, Breakdow...</td>\n",
       "      <td>[Mum, Harry, Conor, Grandma, Lily, Dad]</td>\n",
       "      <td>A Monster Calls Scene by Scene Breakdown by An...</td>\n",
       "      <td>(A, Monster, Calls, Scene, by, Scene, Breakdow...</td>\n",
       "      <td>[Lily, Dad, Mum, Grandma, Harry, Conor, Mr. Cl...</td>\n",
       "    </tr>\n",
       "    <tr>\n",
       "      <th>2</th>\n",
       "      <td>A Quiet Place</td>\n",
       "      <td>A Quiet Place\\nScene by Scene Breakdown\\nBy Ma...</td>\n",
       "      <td>A Quiet Place Scene by Scene Breakdown By Mark...</td>\n",
       "      <td>(A, Quiet, Place, Scene, by, Scene, Breakdown,...</td>\n",
       "      <td>[Beau, Lee, Marcus, Abbott, Regan, Evelyn, Black]</td>\n",
       "      <td>A Quiet Place Scene by Scene Breakdown By Mark...</td>\n",
       "      <td>(A, Quiet, Place, Scene, by, Scene, Breakdown,...</td>\n",
       "      <td>[Beau, Marcus, Lee, Evelyn, Regan, Abbott, Black]</td>\n",
       "    </tr>\n",
       "    <tr>\n",
       "      <th>3</th>\n",
       "      <td>All is Lost</td>\n",
       "      <td>All Is Lost\\nScene-by-Scene Breakdown\\nWritten...</td>\n",
       "      <td>All Is Lost Scene-by-Scene Breakdown Written b...</td>\n",
       "      <td>(All, Is, Lost, Scene, -, by, -, Scene, Breakd...</td>\n",
       "      <td>[]</td>\n",
       "      <td>All Is Lost Scene-by-Scene Breakdown Written b...</td>\n",
       "      <td>(All, Is, Lost, Scene, -, by, -, Scene, Breakd...</td>\n",
       "      <td>[]</td>\n",
       "    </tr>\n",
       "    <tr>\n",
       "      <th>4</th>\n",
       "      <td>American Hustle</td>\n",
       "      <td>American Hustle\\nScene By Scene Breakdown\\nBy ...</td>\n",
       "      <td>American Hustle Scene By Scene Breakdown By Jo...</td>\n",
       "      <td>(American, Hustle, Scene, By, Scene, Breakdown...</td>\n",
       "      <td>[Dolly, Richie, Stoddard, Greensley, Amado, Pe...</td>\n",
       "      <td>American Hustle Scene By Scene Breakdown By Jo...</td>\n",
       "      <td>(American, Hustle, Scene, By, Scene, Breakdown...</td>\n",
       "      <td>[Rosalyn, Elway, Musane, Amado, Sydney, Irv, P...</td>\n",
       "    </tr>\n",
       "  </tbody>\n",
       "</table>\n",
       "</div>"
      ],
      "text/plain": [
       "             movie                                            summary  \\\n",
       "0             1917  1917\\nScene by Scene Breakdown\\nBy Alexis Howe...   \n",
       "1  A Monster Calls  A Monster Calls\\nScene by Scene Breakdown\\nby ...   \n",
       "2    A Quiet Place  A Quiet Place\\nScene by Scene Breakdown\\nBy Ma...   \n",
       "3      All is Lost  All Is Lost\\nScene-by-Scene Breakdown\\nWritten...   \n",
       "4  American Hustle  American Hustle\\nScene By Scene Breakdown\\nBy ...   \n",
       "\n",
       "                                  summary_preprocess  \\\n",
       "0  1917 Scene by Scene Breakdown By Alexis Howell...   \n",
       "1  A Monster Calls Scene by Scene Breakdown by An...   \n",
       "2  A Quiet Place Scene by Scene Breakdown By Mark...   \n",
       "3  All Is Lost Scene-by-Scene Breakdown Written b...   \n",
       "4  American Hustle Scene By Scene Breakdown By Jo...   \n",
       "\n",
       "                                         summary_doc  \\\n",
       "0  (1917, Scene, by, Scene, Breakdown, By, Alexis...   \n",
       "1  (A, Monster, Calls, Scene, by, Scene, Breakdow...   \n",
       "2  (A, Quiet, Place, Scene, by, Scene, Breakdown,...   \n",
       "3  (All, Is, Lost, Scene, -, by, -, Scene, Breakd...   \n",
       "4  (American, Hustle, Scene, By, Scene, Breakdown...   \n",
       "\n",
       "                                          characters  \\\n",
       "0  [Leslie, Smith, Mackenzie, Ecoust, Blake, Scho...   \n",
       "1            [Mum, Harry, Conor, Grandma, Lily, Dad]   \n",
       "2  [Beau, Lee, Marcus, Abbott, Regan, Evelyn, Black]   \n",
       "3                                                 []   \n",
       "4  [Dolly, Richie, Stoddard, Greensley, Amado, Pe...   \n",
       "\n",
       "                                    summary_resolved  \\\n",
       "0  1917 Scene by Scene Breakdown By Alexis Howell...   \n",
       "1  A Monster Calls Scene by Scene Breakdown by An...   \n",
       "2  A Quiet Place Scene by Scene Breakdown By Mark...   \n",
       "3  All Is Lost Scene-by-Scene Breakdown Written b...   \n",
       "4  American Hustle Scene By Scene Breakdown By Jo...   \n",
       "\n",
       "                                       summary_r_doc  \\\n",
       "0  (1917, Scene, by, Scene, Breakdown, By, Alexis...   \n",
       "1  (A, Monster, Calls, Scene, by, Scene, Breakdow...   \n",
       "2  (A, Quiet, Place, Scene, by, Scene, Breakdown,...   \n",
       "3  (All, Is, Lost, Scene, -, by, -, Scene, Breakd...   \n",
       "4  (American, Hustle, Scene, By, Scene, Breakdown...   \n",
       "\n",
       "                                       characters_nc  \n",
       "0  [Blake, Smith, Mackenzie, Lance, Ecoust, Schof...  \n",
       "1  [Lily, Dad, Mum, Grandma, Harry, Conor, Mr. Cl...  \n",
       "2  [Beau, Marcus, Lee, Evelyn, Regan, Abbott, Black]  \n",
       "3                                                 []  \n",
       "4  [Rosalyn, Elway, Musane, Amado, Sydney, Irv, P...  "
      ]
     },
     "execution_count": 53,
     "metadata": {},
     "output_type": "execute_result"
    }
   ],
   "source": [
    "df.head()"
   ]
  },
  {
   "cell_type": "code",
   "execution_count": 60,
   "metadata": {},
   "outputs": [
    {
     "data": {
      "text/plain": [
       "{'Jack Russell', 'Julius Rosenberg', 'escorts'}"
      ]
     },
     "execution_count": 60,
     "metadata": {},
     "output_type": "execute_result"
    }
   ],
   "source": [
    "set(df['characters_nc'][10]) - (set(df['characters'][10]) & set(df['characters_nc'][10]))"
   ]
  },
  {
   "cell_type": "code",
   "execution_count": 62,
   "metadata": {},
   "outputs": [],
   "source": [
    "df.to_csv('./movie_w_characters_nc.csv',index=None)"
   ]
  },
  {
   "cell_type": "code",
   "execution_count": 63,
   "metadata": {},
   "outputs": [
    {
     "data": {
      "text/plain": [
       "Beginners Scene-by-Scene Breakdown By Ali Coad GoIntoTheStory.com Page 1: Dead flowers on a window sill. Page 1: Oliver and Oliver old Jack Russell named Arthur clean and empty Oliver and his old Jack Russell father’s home. Oliver flushes all kids of medicine down the toilet. Oliver looks at an old picture of Oliver father, Hal, in a jean jacket. Pages 1–2: Flashback. Celebration of Hal with fireworks. A man named Andy records it. Page 2: Back to present. Oliver and his old Jack Russell leave the house. Page 2: Drive down Sunset Boulevard. Pages 2–3: Oliver shows Arthur around Oliver home, introducing Oliver to various rooms. Pages 3–4: Flashback. Narrated Sequence. Still black and white and color photographs flash by: the sun, the stars, Yosemite, George W. Bush, people kissing, faces laughing, faces crying. Photos of Oliver’s parents getting married, having Oliver. Oliver Vo of descriptions of the stills. We learn Oliver mom died of cancer. Pages 4–5: Flashback continues. Oliver Vo continues. Hal tells Oliver Oliver’s Vo’s gay at age 75. Jump cuts. Hal talks to the camera, each cut in different clothes, coming out, each cut, Hal line has a different inflection. This happens seven times. This’s Oliver imagination. Page 5: Flashback continues. Hal has a new boyfriend, Andy. a new boyfriend, Andy’re at a Los Angeles Pride event. Page 6: Flashback Continues. Live action “portraits” of a priest, therapist, movie-night club, etc. Oliver Oliver’s Vo — Hal is living the gay life and living the gay life well. Page 6: Flashback Continues. Back in Hal house. the gay life’s empty. Hal Hal died four years after coming out. Page 6: Back to Present. Arthur follows Oliver all over Hal’s house. Arthur has subtitles. Pages 7–8: Flashback. A series of quick memories. Oliver in a hospital hallway. Hal on a ventilator, Oliver reads to Oliver father. Hal gets sicker, Oliver tries to help. Pages 8–9: Flashback farther. Oliver childhood home, late 1970s. Sequences of Oliver parent’s perfunctory kisses. An affectionate moment between young Oliver and Oliver mother, Georgia. Page 9: Back to present. young Oliver and his mother, Georgia sit on a bench at a dog park, observers. Page 10: Oliver at work. Oliver’s a designer. Page 10: Jump cut through a series of Oliver drawings. Portraits and timelines of girls Oliver’s dated. Pages 10–12: Flashback. In the hospital, young Oliver and his mother, Georgia look at a book together. Hal is disoriented. Andy, Hal boyfriend, visits and plays the firework recording for Hal. Hal is happy. Pages 12–13: Back to present. Oliver drawing album designs for a client. It’s not what Oliver wants to do. Pages 13–14: Oliver friends, Shauna and Elliott, convince Oliver to go to a costume party. Oliver dresses as Sigmund Freud. Oliver’s depressed. Page 14: Arthur whines about being left behind while Oliver goes out. Page 14: Shauna, Elliott, and Oliver drive to a costume party. Arthur sits on Oliver lap victoriously. Pages 15–17: At a costume party, Oliver and Arthur mingle. Oliver doesn’t feel emotionally ready for a costume party. Oliver sits in a chair with Arthur talking to a witch-dressed man as if in a traditional analysis session. Oliver isn’t ready for this. Another ‘patient’ sits down, a woman dressed as Julius Rosenberg. a woman dressed as Julius Rosenberg doesn’t talk but writes on a notepad because, as we discover, a woman dressed as Julius Rosenberg has laryngitis. Oliver taken by a woman dressed as Julius Rosenberg. Pages 17–18: Shauna, Elliott, and Oliver are encouraged by Oliver and this woman. Pages 18–19: Flashback. Hal tells Oliver about Oliver night out at Akbar, a gay club. Cut to scenes in the club as we get VOs from Hal and Oliver, both in VOs from Hal and Oliver respective bedrooms. Pages 19–20: Back to present. Oliver and this woman dance. Page 20: Oliver gives her Oliver number. Page 21: As Oliver and Arthur walk home from the party, her calls. her beeps for yes and no answers. Pages 21–22: Oliver picks her up in Oliver car. her points directions. Page 22: Oliver, Arthur and the woman enter a fancy hotel. Pages 22–23: Page 22: Oliver, Arthur and the woman enter her suite. her name is Anna. Oliver talks about Oliver parents. his parents kiss for the first time. his parents go to sleep, just sleeping. Pages 23–24: Oliver discovers Anna’s an actress, that Anna’s an actress’s only visiting here. his parents’re going to see each other again. Page 24: his parents kiss in the hotel hallway, gentle and comfortable with each other. Page 24: Oliver alone with Arthur. Arthur’s happy. Page 24: Flashback. Quick cuts of Andy and Hal kissing lovingly. Page 25: Back to Present. Oliver digs through Oliver father’s forwarded mail. Pages 25–26: Flashback. Hal discovers Hal has cancer. Oliver retreats into Oliver, scared. Page 26: Quick shots of change (quarter, dimes, nickels, pennies) on black. Flashback continues. Hal digests the news stoically. Hal chooses not to tell Andy. Oliver reads to his father. Page 27: Back to Present. Series of Cu jump cuts. Oliver hands as Oliver draws various death scenarios. Flashback. Andy visits Hal as Oliver looks on. A nurse takes Hal’s vitals, Andy expresses as strange jealousy. Pages 29–30: Flashback continues. Oliver helps Hal gay friends and Andy get settled in the hospital room. Hal’s gay friends toast, A nurse tells Hal’s gay friends no, and Hal toasts anyway. Oliver smiles but can’t believe Oliver dad; this is a new person. Page 30: Back to Present. Oliver and Elliott shop in a bookstore. Oliver tells Elliott about Anna. Page 31: Walking the streets, Elliott and Oliver continue Elliott and Oliver conversation about Anna. Oliver admits to falling for Anna. Page 32: Flashback. Oliver Oliver watches Oliver mom, Georgia, draw. Oliver worries about Oliver parent’s relationship. Page 33: Back to Present. Late at night, Oliver watches Elliott spray paint a large tag on a blank wall. Oliver criticizes Oliver. Page 33: Oliver now spray paints a wall. Oliver does it again. And again. All historical facts. Oliver exhilarated. Oliver’s coming back to life. Page 34: Arthur howls as Oliver leaves the house. Page 34: Oliver and Arthur in Anna hotel room. Anna kisses Arthur. They talk. They’re learning to trust each other. Page 35: Post-sex, They lie in bed. Page 35: Flashback. Oliver Oliver listens to music with Oliver mom. Oliver trying to figure out Oliver family history; Oliver’s a quarter Jewish. Page 36: Flashback continues. Oliver drives Oliver childhood car. Oliver mother, Georgia, admires Oliver; Oliver’s proud. Page 36: Flashback continues. Oliver Georgia into the museum. Oliver escorts Georgia into the museum embarrasses Oliver escorts Georgia into the museum. Pages 37–38: Back to present. young Oliver and his mother, Georgia get dressed. young Oliver and his mother, Georgia make fun observations about people from the hotel window. Oliver escorts Georgia into the museum playfulness is very meaningful to Oliver, Oliver’s in love. Page 39: young Oliver and his mother, Georgia walks through a caged-in freeway overpass. Oliver blindfolds Oliver escorts Georgia into the museum. Arthur is with young Oliver and his mother, Georgia. Oliver escorts Georgia into the museum opens Oliver escorts Georgia into the museum eyes. Traffic races beneath young Oliver and his mother, Georgia, scaring and thrilling young Oliver and his mother, Georgia. VOs of young Oliver and his mother, Georgia in an intimate conversation from the hotel room. Page 39: young Oliver and his mother, Georgia walk alongside the La river, arm in arm. VOs of Oliver and Anna in an intimate conversation from the hotel room the hotel room continues. Pages 39–40: young Oliver and his mother, Georgia leave Anna hotel room. young Oliver and his mother, Georgia have a conversation, Arthur is subtitled. Arthur is worried about how good things feel right now, how young Oliver and his mother, Georgia can’t last. Page 40–41: Flashback. young Oliver and his mother, Georgia discuss Oliver most recent break-up: nothing happened, it just wasn’t right. Page 41: Flashback continues. Hal friends welcome Hal home. Andy’s there. Oliver makes a chart for medicine and dosage and prepares Oliver pills. It’s an emotional job for Oliver. Page 41–43: Oliver watches Hal. Andy leaves to go to Oliver other boyfriend’s house. Hal pretends not to be sad, but Oliver catches it. Hal worries about Oliver ending up alone. Page 43: Back to present. Cu of Oliver’s hands as Oliver draws “The History Of Sadness.” Page 43: Return to the previous flashback. Oliver helps Oliver dad to the couch and Hal worrying about Oliver ending up alone. Pages 44–45: Back to present. young Oliver and his mother, Georgia look through a bookstore. young Oliver and his mother, Georgia read about tragic lives of actors. young Oliver and his mother, Georgia share a vulnerable look. Pages 45–46: young Oliver and his mother, Georgia go to a taco truck. young Oliver and his mother, Georgia eat on milk crates by a taco truck. She likes the food, much to Oliver relief. Pages 46–47: Olive and Anna lie in the hotel bed talking. Olive and Anna talk about how often She travels, how it makes it easy to leave people. The film-defining line comes from Oliver at this moment: “You can stay in the same place and still find ways to leave people.” ways to leave people intertwine fingers, ways to leave people’re the same. Page 47: Flashback. Oliver finds Hal, in the middle of the night, reorganizing Oliver bookshelf. A huge physical task. Maria, the nurse, tries to calm Oliver. Pages 47–48: Flashback continues. HalHal , Hal looks sick but energized. Oliver worries. Page 48: Back to present. Oliver, Anna and Arthur walk in Elysian Park. Anna tells Oliver about Anna parents. Oliver Vo about Anna parents. Then Oliver’s Vo about Anna’s parents mentions Oliver’s Vo about Anna’s parents . Compromising who his parents are. Pages 49–51: Narrated sequence. Pictures flash before us: Georgia in 1938, Fdr, business men, lions and giraffes, Adolf Hitler on the cover of Time Magazine, Models, etc… Oliver Vo describing these pictures and how these pictures relate to Oliver. And to Anna. All these things that happened in 1930s-1950s, All these things that happened in 1930s-1950s’re important to who Anna is. Anna Jewish history. Her Jewish history. About what it meant to be pretty. About what it meant to be gay. Page 51: Back to present. In His , Oliver flips through “The History Of Sadness.” It’s album art Oliver created for a band called “The Sads.” They don’t like It. Oliver disappointed but polite. Page 52: Oliver leaves work feeling defeated. Flashback. Oliver delivers Hal Oliver medication. Hal feels invigorated. Andy encourages Hal to exercise. We see the flowers on the window sill from the very first scene. the flowers on the window sill from the very first scene are dead. Pages 53–54: Hal walk the isles at Staples. Hal asks Oliver to be the one to tell Andy that Hal is sick. Pages 54–55: Oliver tries to tell Andy about Hal. Andy misinterprets Oliver heavy demeanor as discomfort with the gays. Andy tells Oliver Oliver’s not attracted to Oliver and there’s no need to feel threatened. Andy feels better and Oliver leaves confused. Page 55: Oliver tells Hal that Oliver couldn’t tell Andy. Oliver also admits that Andy really loves Hal and it’s not fair that Hal doesn’t tell Oliver. Pages 55–56: Oliver cuts fresh flowers for the vase on the window sill. Page 56: Back to present. Oliver and Anna chase Arthur in the park. Pages 56–57: In the hotel room, Anna phone rings. Oliver is about it answer it when Anna tells Oliver no, it’s Anna dad. Anna tells Oliver about Anna rocky history with her dad. It’s heavy. Page 58: Trying to lighten the mood, Oliver takes Anna up Sunset Blvd with Elliott and Shauna to spray paint something. Pages 58–59: On a rooftop, Oliver paints on a billboard. Oliver self-admittedly tries to impress Anna, Pages 58–59 works. Page 59: In the hotel hallway, Arthur sprints away from Oliver to an old man who looks just like Hal. The resemblance hits Oliver too. Anna senses what’s happened. Page 60: In the hotel room, Anna hugs Arthur. Oliver is overwhelmed by memory. Page 60: Flashback. A series of repeat actions on different days: - Oliver helping Hal into the cancer center, Hal is full of life. - Hal getting some cookies in the Cancer Center Lobby. - Cu of the cookie plate - Hal happily eating a cookie. Page 60–61: Hal in the radiation room. Hal now has a radiation tattoo. Page 61: Back to present. Anna moved by Oliver story. Page 61: Flashback. In the bookstore, Hal looks for books. Vo of Oliver telling Anna about Hal and Hal shopping habits. Page 61: Flashback continues. Hal, in a clothing store, brings outfits to the dressing room. Page 61: Flashback continues. In Staples, Hal buys more and more paper. Pages 61–62: Flashback continues. Hal buys plants from a nursery. Page 62: Back to present. Oliver’s very emotional now, as is Anna. Page 62: Flashback continues. Oliver arrives at Hals with groceries only to find a party going on with all of Hal gay friends. Page 62: Flashback continues. At a party, Hal and Hal friends write letters to a gay congressman they were supporting. Pages 63–64: Flashback continues. Oliver puts groceries away. Hal tells Hal friends Hal’s getting better, Oliver chastises Oliver. Oliver sees fear in Oliver father’s face. Oliver joins a party. Page 64: Flashback continues. Hal hires a secretary to dictate to. Page 64: Live action portrait of a secretary looking into the camera. Page 64: Flashback continues. Oliver looks on as Hal works with a secretary. Hal re-writes Jesus’ death. Pages 64–65: Flashback continues. Oliver sees Andy and Hal napping together. It was the first time Oliver really seen Oliver in love. Page 65: Back to present. Anna hugs and kisses Oliver. Anna’s overwhelmed by Oliver need. Page 65: Later that night, Oliver sleeps. Anna, nervously awake, leaves the hotel room. Arthur follows. Page 65: Anna, troubled, walks down the hallway with Arthur. Page 65: Anna sits in the dark, empty ballroom and smokes. Page 65: Oliver wakes to find Anna gone and goes to look for Anna. Page 66: Oliver finds Anna in the ballroom, both are full of heavy feelings. Anna doesn’t think Anna can compensate for all Oliver’s lost, but Anna wants Oliver to stay. It’s tense. Oliver hoists Anna over Anna shoulder and carries Anna out of the hotel room, both’ve made it past the trouble. Flashback. Hal and Andy and Oliver and all both gay friends in a parking lot with fireworks. Celebrating, laughing. Page 68: Back to present. Anna and Oliver wake up together. Page 68–69: Oliver and Anna roller-skate at a roller rink. Elliott and Shauna are there. So is Arthur. Elliott and Shauna’re asked to leave because of the “No Dogs Allowed” rule. Elliott and Shauna leave, and rebelliously take the skates. Page 69: Anna and Oliver roll down the street in skates. Page 70: Anna and Oliver roll down the hotel hallway in skates. Pages 70–71: Anna and Oliver skate around the hotel room, happy. The phone rings. Knowing it must be Anna’s father the mood changes. Oliver unplugs the phone. Oliver asks Anna’s to move in with Oliver. Anna’s says yes. Pages 71–72: Still photos of the sun in 2003, the stars, and live action of Oliver, Anna and Arthur eating, talking at night in bed. Stills of Lbj, Anna Cat, Anna parents, etc… Vo of Oliver describing their relationship in 2003. And their personal histories. their childhoods, previous relationships. Live Action shots of Oliver, Anna and Arthur talking at night and running backwards in pretend slow motion, Anna looking into the camera saying ‘I love you,’ Cu of Anna ear, Anna feet. Vo of Oliver describing them being in love, running backwards, saying I love you. Pages 73–74: Flashback. Oliver helps Hal with Oliver medication. Hal gives Oliver a Pride flag. Hal talk about Hal being gay and Hal and Georgia’s relationship. Oliver gets angry. his parents never really loved each other. Pages 74–75: The screen fills solid Pink, then solid Red, then solid Yellow, solid Green, solid Turquoise. Vo of Oliver voice with what the color’s represent. Page 75: Still photos of the gay pride flag. Vo of Oliver voice about the various flags and what they mean. Pages 75–76: Still photos of Carter, a Lego figure, superman, pets, historical footage of Harvey Milk’s body being carried away, still photos of the museum exhibit of stuffed animals, etc. Vo of Oliver voice about what these figures, people, items meant for that time. What these things meant to Oliver specifically. Page 76: Flashback. Oliver finds Andy and Hal dancing free and without restraint. Page 77: Back to present. Oliver works on the album art for “The Sads.” The band doesn’t like The band. The band leave. Page 78: Oliver carries Anna suitcase into the house. Page 78: Oliver shoes Anna around the house, introducing Oliver shoes Anna to various rooms and items. Anna feels extremely overwhelmed, Anna tries to get over it. Pages 78–79: Oliver shows Anna some drawers Oliver emptied in Oliver bedroom for Anna. Anna’s having a hard time dealing with the intimacy, stability and generosity. Anna hides it all by initiating sex with him. Page 79: They sleep in Oliver bed. Page 79: Oliver wakes up alone. Page 79: Oliver finds Anna on the couch. Emotional tension builds. They’re miles apart. Page 79: Oliver is deep in thought at Oliver office. Page 80: Flashback. Oliver watches Oliver mother and father go through the motions of kissing. Page 80: Oliver and Arthur stand alone in the house at night. Page 80: Oliver notices Anna drawers are still empty. Page 80: Oliver and Arthur eat. Oliver and Arthur’re disconnected and moody. Page 80: Oliver is hurt and broods. Anna is trying and is hurt by Oliver silence. Page 81: Oliver and Arthur have a fight. Oliver pushes Anna out emotionally, Anna decides to go back to New York. Page 81: A cab picks up Anna, Anna looks to the house for a sign before getting in A cab. Nothing. Oliver cries behind the front door. Page 81: Flashback. Oliver pushes Hal down a hallway. Pages 81–82: Flashback continues. At the hospital getting the news. There’s nothing more the doctors can do. Oliver devastated. Hal is stoic. Page 82: Jump Cuts — men deliver a hospital bed and equipment to the house. Page 82: Oliver and Hal look out over the canyons. Page 82: Oliver sits with Hal in Oliver hospital bed, holds Oliver hand. Page 83: Flashback. Oliver Oliver walks with Georgia through the museum on opening night. She feels alone, Oliver asks to go home. Pages 83–84: Flashback continues. Georgia drives around, Oliver dictates directions. Page 84: Flashback continues. At home, Georgia goes right to She room, slams the front door. Page 84: Back to present. Oliver lies on his hospital bed in darkness. Page 84: Flashback. Oliver remembers Anna in her room on the night they met. Pages 84–85: Back to present. Oliver feels the most lost. Oliver talks to Arthur, who mentions this relationship was doomed before this relationship started. Something changes inside Oliver. Oliver dials Anna. Page 85: Oliver delivers Arthur to Elliott to watch Oliver while Oliver makes a trip. When Oliver leaves, Arthur howls and cries, it’s the saddest sound. Oliver runs back in and grabs Arthur. Page 85: Oliver drives up to a new house with Arthur. Page 85: Oliver watches Andy cry as Arthur licks Oliver all over. Page 86: As Oliver leaves a new house with Arthur, Oliver waits for Arthur to cry. Nothing happens. Oliver drives away. Page 86: Oliver takes cabs through New York. Picks up flowers at a bodega. Pages 86–88: Oliver knocks on her door, no answer. Oliver calls her. her’s in Los Angeles. her tells Oliver where the key is and Oliver enters her apartment. her apartment’s empty. her give Oliver a tour, similar to the one Oliver gave her when her first entered Oliver place. It’s strangely intimate. Page 88: Flashback. Repeat memory. Oliver watches Oliver mother walk down the hallway, very alone. Flashback. A handsome nurse Juan helps Hal in the bed set up in Hal living room. Juan styles Hal hair. Oliver watches Hal close Oliver eyes and enjoy the simple affection. Page 90: Oliver lies on Anna bed. Page 90: Flashback. Hal on Hal hospital bed in his living room. Hal’s surrounded by friends. Juan, the nurse, tells Oliver Oliver’s passed. Oliver goes to Hal and cries at Oliver bedside. Pages 90–91: Narrated sequence. Still photos of a check to the Neptune Society, a jar of peanut butter, a metal ash container, Hal death certificate, credit cards, phone bills, insurance statements, mortgage statements, Hal mail piling up. Live action shot of a hand writing the obituary. Oliver Vo of all these things and what they mean. About the expenses and logistics involved in death. Pages 91–92: Oliver picks up Arthur at a new house with Arthur. An emotional moment for Andy and Oliver; Hal really loved Andy. Page 92: Oliver plays with Arthur, both happy to be home. Page 92–93: Oliver opens the door to Anna. Oliver and Arthur are Oliver and Arthur happy Anna’s that. Anna’s happy too. Anna walks around a new house with Arthur, reintroducing Anna to rooms. Boxes of Hal’s things line his living room. Anna find the picture of Hal in a jean jacket from the beginning of the film. the film’s attached to a personal ad. Page 93: Flashback. Repeat shots of Hal looking into the camera. Telling Oliver Oliver’s gay, napping with Andy, waving at Oliver, Hal and Juan, Hal radiation tattoo, Hal playing with Arthur, Hal with Andy, etc… Vo of Oliver describing them being in love reading Hal personal ad. Page 94: Back to present. Oliver finishes reading Hal’s personal ad. Hal didn’t give up on life. Anna and Oliver look at each other with vulnerability. Oliver follows Anna down the hall. Anna and Oliver sit on Oliver bed side by side."
      ]
     },
     "execution_count": 63,
     "metadata": {},
     "output_type": "execute_result"
    }
   ],
   "source": [
    "df['summary_r_doc'][10]"
   ]
  },
  {
   "cell_type": "code",
   "execution_count": null,
   "metadata": {},
   "outputs": [],
   "source": []
  }
 ],
 "metadata": {
  "kernelspec": {
   "display_name": "Python 3",
   "language": "python",
   "name": "python3"
  },
  "language_info": {
   "codemirror_mode": {
    "name": "ipython",
    "version": 3
   },
   "file_extension": ".py",
   "mimetype": "text/x-python",
   "name": "python",
   "nbconvert_exporter": "python",
   "pygments_lexer": "ipython3",
   "version": "3.8.2"
  }
 },
 "nbformat": 4,
 "nbformat_minor": 4
}
